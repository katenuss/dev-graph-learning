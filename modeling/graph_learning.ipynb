{
 "cells": [
  {
   "cell_type": "markdown",
   "metadata": {},
   "source": [
    "# Graph learning modeling code"
   ]
  },
  {
   "cell_type": "code",
   "execution_count": 7,
   "metadata": {},
   "outputs": [
    {
     "data": {
      "text/plain": [
       "run_Tpows_rt_shift_trial_alltargets_keys (generic function with 1 method)"
      ]
     },
     "metadata": {},
     "output_type": "display_data"
    }
   ],
   "source": [
    "#set up\n",
    "\n",
    "#load packages\n",
    "using FileIO\n",
    "using JLD2\n",
    "using DataFrames\n",
    "using CSV\n",
    "using LinearAlgebra\n",
    "using Statistics\n",
    "using SpecialFunctions\n",
    "using Logging\n",
    "using CodecZlib\n",
    "using EM2 #slightly modified version of EM (in code/em-ak-em if not installed)\n",
    "\n",
    "BLAS.set_num_threads(1)\n",
    "\n",
    "include(\"code/em_scripts.jl\")\n",
    "include(\"code/sr_funcs_kids.jl\")\n"
   ]
  },
  {
   "cell_type": "markdown",
   "metadata": {},
   "source": [
    "## Load data and fit model"
   ]
  },
  {
   "cell_type": "code",
   "execution_count": 2,
   "metadata": {},
   "outputs": [
    {
     "data": {
      "text/plain": [
       "run_sr_td_future_dutch_rt_shift_trial_alltargets_keys (generic function with 1 method)"
      ]
     },
     "metadata": {},
     "output_type": "display_data"
    }
   ],
   "source": [
    "#process model data\n",
    "trialdata_kids = DataFrame(CSV.File(\"../data/processed/model_data.csv\"))\n",
    "\n",
    "subjects = unique(trialdata_kids.subject_id)\n",
    "trialdata_kids.sub = [findfirst(x -> x == y, subjects) for y in trialdata_kids.subject_id]\n",
    "trialdata_kids.trial = (trialdata_kids.within_block_trial .* trialdata_kids.block_num)/600\n",
    "age = [trialdata_kids[trialdata_kids.subject_id .== s, :age][1] for s in subjects]\n",
    "age = age .- mean(age)\n",
    "trialdata_kids.targetid = trialdata_kids.stim_id\n",
    "target_button = zeros(Int, nrow(trialdata_kids)) .+ 1\n",
    "target_button[trialdata_kids.target_button .== \"f\"] .= 2    \n",
    "trialdata_kids.keyid = target_button\n",
    "trialdata_kids.isValid = trialdata_kids.isValid .== 1\n",
    "trialdata_kids.rt = trialdata_kids.rt ./ 1000\n",
    "trialdata_kids[trialdata_kids.rt .< 0.2, :isValid] .= false\n",
    "\n",
    "#i = parse(Int, ARGS[1])\n",
    "\n",
    "fname = \"fit_model\"\n",
    "fn = run_sr_td_future_dutch_rt_shift_trial_alltargets_keys"
   ]
  },
  {
   "cell_type": "code",
   "execution_count": 8,
   "metadata": {},
   "outputs": [
    {
     "name": "stdout",
     "output_type": "stream",
     "text": [
      "naive = true\n",
      "add_αM = true\n",
      "add_recency_ntrials = false\n",
      "add_recency_lag10 = false\n",
      "normalize_prediction = true\n",
      "add_zero_order = true\n",
      "warmup = -1\n",
      "covariates = nothing\n"
     ]
    },
    {
     "ename": "CompositeException",
     "evalue": "TaskFailedException\n\n    nested task error: UndefVarError: `unitnorm` not defined\n    Stacktrace:\n      [1] (::var\"#lik_fn#34\"{Int64, Bool, Bool, Bool, Bool, Bool, Bool, Bool, Bool})(params::Vector{ForwardDiff.Dual{ForwardDiff.Tag{EM2.var\"#24#28\"{Int64, Vector{NamedTuple{(:subject_id, :age, :block_num, :within_block_trial, :node, :target_button, :stim_id, :rt, :isValid, :bad_browser_sub, :bad_missed_trials, :bad_acc_trials, :fast_rt_subs, :incomplete_subs, :sub, :trial, :targetid, :keyid), Tuple{SubArray{Int64, 1, Vector{Int64}, Tuple{UnitRange{Int64}}, true}, SubArray{Float64, 1, Vector{Float64}, Tuple{UnitRange{Int64}}, true}, SubArray{Int64, 1, Vector{Int64}, Tuple{UnitRange{Int64}}, true}, SubArray{Int64, 1, Vector{Int64}, Tuple{UnitRange{Int64}}, true}, SubArray{Int64, 1, Vector{Int64}, Tuple{UnitRange{Int64}}, true}, SubArray{String1, 1, PooledArrays.PooledVector{String1, UInt32, Vector{UInt32}}, Tuple{UnitRange{Int64}}, true}, SubArray{Int64, 1, Vector{Int64}, Tuple{UnitRange{Int64}}, true}, SubArray{Float64, 1, Vector{Float64}, Tuple{UnitRange{Int64}}, true}, SubArray{Bool, 1, BitVector, Tuple{UnitRange{Int64}}, true}, SubArray{Int64, 1, Vector{Int64}, Tuple{UnitRange{Int64}}, true}, SubArray{Int64, 1, Vector{Int64}, Tuple{UnitRange{Int64}}, true}, SubArray{Int64, 1, Vector{Int64}, Tuple{UnitRange{Int64}}, true}, SubArray{Int64, 1, Vector{Int64}, Tuple{UnitRange{Int64}}, true}, SubArray{Int64, 1, Vector{Int64}, Tuple{UnitRange{Int64}}, true}, SubArray{Int64, 1, Vector{Int64}, Tuple{UnitRange{Int64}}, true}, SubArray{Float64, 1, Vector{Float64}, Tuple{UnitRange{Int64}}, true}, SubArray{Int64, 1, Vector{Int64}, Tuple{UnitRange{Int64}}, true}, SubArray{Int64, 1, Vector{Int64}, Tuple{UnitRange{Int64}}, true}}}}, Diagonal{Float64, Vector{Float64}}, var\"#lik_fn#34\"{Int64, Bool, Bool, Bool, Bool, Bool, Bool, Bool, Bool}, Matrix{Float64}}, Float64}, Float64, 9}}, data::NamedTuple{(:subject_id, :age, :block_num, :within_block_trial, :node, :target_button, :stim_id, :rt, :isValid, :bad_browser_sub, :bad_missed_trials, :bad_acc_trials, :fast_rt_subs, :incomplete_subs, :sub, :trial, :targetid, :keyid), Tuple{SubArray{Int64, 1, Vector{Int64}, Tuple{UnitRange{Int64}}, true}, SubArray{Float64, 1, Vector{Float64}, Tuple{UnitRange{Int64}}, true}, SubArray{Int64, 1, Vector{Int64}, Tuple{UnitRange{Int64}}, true}, SubArray{Int64, 1, Vector{Int64}, Tuple{UnitRange{Int64}}, true}, SubArray{Int64, 1, Vector{Int64}, Tuple{UnitRange{Int64}}, true}, SubArray{String1, 1, PooledArrays.PooledVector{String1, UInt32, Vector{UInt32}}, Tuple{UnitRange{Int64}}, true}, SubArray{Int64, 1, Vector{Int64}, Tuple{UnitRange{Int64}}, true}, SubArray{Float64, 1, Vector{Float64}, Tuple{UnitRange{Int64}}, true}, SubArray{Bool, 1, BitVector, Tuple{UnitRange{Int64}}, true}, SubArray{Int64, 1, Vector{Int64}, Tuple{UnitRange{Int64}}, true}, SubArray{Int64, 1, Vector{Int64}, Tuple{UnitRange{Int64}}, true}, SubArray{Int64, 1, Vector{Int64}, Tuple{UnitRange{Int64}}, true}, SubArray{Int64, 1, Vector{Int64}, Tuple{UnitRange{Int64}}, true}, SubArray{Int64, 1, Vector{Int64}, Tuple{UnitRange{Int64}}, true}, SubArray{Int64, 1, Vector{Int64}, Tuple{UnitRange{Int64}}, true}, SubArray{Float64, 1, Vector{Float64}, Tuple{UnitRange{Int64}}, true}, SubArray{Int64, 1, Vector{Int64}, Tuple{UnitRange{Int64}}, true}, SubArray{Int64, 1, Vector{Int64}, Tuple{UnitRange{Int64}}, true}}})\n        @ Main ~/Library/CloudStorage/Dropbox/research/studies/dev_sr/GL_manuscript/dev-graph-learning/modeling/code/sr_funcs_kids.jl:515\n      [2] gaussianprior(params::Vector{ForwardDiff.Dual{ForwardDiff.Tag{EM2.var\"#24#28\"{Int64, Vector{NamedTuple{(:subject_id, :age, :block_num, :within_block_trial, :node, :target_button, :stim_id, :rt, :isValid, :bad_browser_sub, :bad_missed_trials, :bad_acc_trials, :fast_rt_subs, :incomplete_subs, :sub, :trial, :targetid, :keyid), Tuple{SubArray{Int64, 1, Vector{Int64}, Tuple{UnitRange{Int64}}, true}, SubArray{Float64, 1, Vector{Float64}, Tuple{UnitRange{Int64}}, true}, SubArray{Int64, 1, Vector{Int64}, Tuple{UnitRange{Int64}}, true}, SubArray{Int64, 1, Vector{Int64}, Tuple{UnitRange{Int64}}, true}, SubArray{Int64, 1, Vector{Int64}, Tuple{UnitRange{Int64}}, true}, SubArray{String1, 1, PooledArrays.PooledVector{String1, UInt32, Vector{UInt32}}, Tuple{UnitRange{Int64}}, true}, SubArray{Int64, 1, Vector{Int64}, Tuple{UnitRange{Int64}}, true}, SubArray{Float64, 1, Vector{Float64}, Tuple{UnitRange{Int64}}, true}, SubArray{Bool, 1, BitVector, Tuple{UnitRange{Int64}}, true}, SubArray{Int64, 1, Vector{Int64}, Tuple{UnitRange{Int64}}, true}, SubArray{Int64, 1, Vector{Int64}, Tuple{UnitRange{Int64}}, true}, SubArray{Int64, 1, Vector{Int64}, Tuple{UnitRange{Int64}}, true}, SubArray{Int64, 1, Vector{Int64}, Tuple{UnitRange{Int64}}, true}, SubArray{Int64, 1, Vector{Int64}, Tuple{UnitRange{Int64}}, true}, SubArray{Int64, 1, Vector{Int64}, Tuple{UnitRange{Int64}}, true}, SubArray{Float64, 1, Vector{Float64}, Tuple{UnitRange{Int64}}, true}, SubArray{Int64, 1, Vector{Int64}, Tuple{UnitRange{Int64}}, true}, SubArray{Int64, 1, Vector{Int64}, Tuple{UnitRange{Int64}}, true}}}}, Diagonal{Float64, Vector{Float64}}, var\"#lik_fn#34\"{Int64, Bool, Bool, Bool, Bool, Bool, Bool, Bool, Bool}, Matrix{Float64}}, Float64}, Float64, 9}}, mu::Vector{Float64}, sigma::Diagonal{Float64, Vector{Float64}}, data::NamedTuple{(:subject_id, :age, :block_num, :within_block_trial, :node, :target_button, :stim_id, :rt, :isValid, :bad_browser_sub, :bad_missed_trials, :bad_acc_trials, :fast_rt_subs, :incomplete_subs, :sub, :trial, :targetid, :keyid), Tuple{SubArray{Int64, 1, Vector{Int64}, Tuple{UnitRange{Int64}}, true}, SubArray{Float64, 1, Vector{Float64}, Tuple{UnitRange{Int64}}, true}, SubArray{Int64, 1, Vector{Int64}, Tuple{UnitRange{Int64}}, true}, SubArray{Int64, 1, Vector{Int64}, Tuple{UnitRange{Int64}}, true}, SubArray{Int64, 1, Vector{Int64}, Tuple{UnitRange{Int64}}, true}, SubArray{String1, 1, PooledArrays.PooledVector{String1, UInt32, Vector{UInt32}}, Tuple{UnitRange{Int64}}, true}, SubArray{Int64, 1, Vector{Int64}, Tuple{UnitRange{Int64}}, true}, SubArray{Float64, 1, Vector{Float64}, Tuple{UnitRange{Int64}}, true}, SubArray{Bool, 1, BitVector, Tuple{UnitRange{Int64}}, true}, SubArray{Int64, 1, Vector{Int64}, Tuple{UnitRange{Int64}}, true}, SubArray{Int64, 1, Vector{Int64}, Tuple{UnitRange{Int64}}, true}, SubArray{Int64, 1, Vector{Int64}, Tuple{UnitRange{Int64}}, true}, SubArray{Int64, 1, Vector{Int64}, Tuple{UnitRange{Int64}}, true}, SubArray{Int64, 1, Vector{Int64}, Tuple{UnitRange{Int64}}, true}, SubArray{Int64, 1, Vector{Int64}, Tuple{UnitRange{Int64}}, true}, SubArray{Float64, 1, Vector{Float64}, Tuple{UnitRange{Int64}}, true}, SubArray{Int64, 1, Vector{Int64}, Tuple{UnitRange{Int64}}, true}, SubArray{Int64, 1, Vector{Int64}, Tuple{UnitRange{Int64}}, true}}}, likfun::var\"#lik_fn#34\"{Int64, Bool, Bool, Bool, Bool, Bool, Bool, Bool, Bool})\n        @ EM2 ~/Library/CloudStorage/Dropbox/research/julia_packages/em-ak-em/src/emutils.jl:29\n      [3] (::EM2.var\"#24#28\"{Int64, Vector{NamedTuple{(:subject_id, :age, :block_num, :within_block_trial, :node, :target_button, :stim_id, :rt, :isValid, :bad_browser_sub, :bad_missed_trials, :bad_acc_trials, :fast_rt_subs, :incomplete_subs, :sub, :trial, :targetid, :keyid), Tuple{SubArray{Int64, 1, Vector{Int64}, Tuple{UnitRange{Int64}}, true}, SubArray{Float64, 1, Vector{Float64}, Tuple{UnitRange{Int64}}, true}, SubArray{Int64, 1, Vector{Int64}, Tuple{UnitRange{Int64}}, true}, SubArray{Int64, 1, Vector{Int64}, Tuple{UnitRange{Int64}}, true}, SubArray{Int64, 1, Vector{Int64}, Tuple{UnitRange{Int64}}, true}, SubArray{String1, 1, PooledArrays.PooledVector{String1, UInt32, Vector{UInt32}}, Tuple{UnitRange{Int64}}, true}, SubArray{Int64, 1, Vector{Int64}, Tuple{UnitRange{Int64}}, true}, SubArray{Float64, 1, Vector{Float64}, Tuple{UnitRange{Int64}}, true}, SubArray{Bool, 1, BitVector, Tuple{UnitRange{Int64}}, true}, SubArray{Int64, 1, Vector{Int64}, Tuple{UnitRange{Int64}}, true}, SubArray{Int64, 1, Vector{Int64}, Tuple{UnitRange{Int64}}, true}, SubArray{Int64, 1, Vector{Int64}, Tuple{UnitRange{Int64}}, true}, SubArray{Int64, 1, Vector{Int64}, Tuple{UnitRange{Int64}}, true}, SubArray{Int64, 1, Vector{Int64}, Tuple{UnitRange{Int64}}, true}, SubArray{Int64, 1, Vector{Int64}, Tuple{UnitRange{Int64}}, true}, SubArray{Float64, 1, Vector{Float64}, Tuple{UnitRange{Int64}}, true}, SubArray{Int64, 1, Vector{Int64}, Tuple{UnitRange{Int64}}, true}, SubArray{Int64, 1, Vector{Int64}, Tuple{UnitRange{Int64}}, true}}}}, Diagonal{Float64, Vector{Float64}}, var\"#lik_fn#34\"{Int64, Bool, Bool, Bool, Bool, Bool, Bool, Bool, Bool}, Matrix{Float64}})(x::Vector{ForwardDiff.Dual{ForwardDiff.Tag{EM2.var\"#24#28\"{Int64, Vector{NamedTuple{(:subject_id, :age, :block_num, :within_block_trial, :node, :target_button, :stim_id, :rt, :isValid, :bad_browser_sub, :bad_missed_trials, :bad_acc_trials, :fast_rt_subs, :incomplete_subs, :sub, :trial, :targetid, :keyid), Tuple{SubArray{Int64, 1, Vector{Int64}, Tuple{UnitRange{Int64}}, true}, SubArray{Float64, 1, Vector{Float64}, Tuple{UnitRange{Int64}}, true}, SubArray{Int64, 1, Vector{Int64}, Tuple{UnitRange{Int64}}, true}, SubArray{Int64, 1, Vector{Int64}, Tuple{UnitRange{Int64}}, true}, SubArray{Int64, 1, Vector{Int64}, Tuple{UnitRange{Int64}}, true}, SubArray{String1, 1, PooledArrays.PooledVector{String1, UInt32, Vector{UInt32}}, Tuple{UnitRange{Int64}}, true}, SubArray{Int64, 1, Vector{Int64}, Tuple{UnitRange{Int64}}, true}, SubArray{Float64, 1, Vector{Float64}, Tuple{UnitRange{Int64}}, true}, SubArray{Bool, 1, BitVector, Tuple{UnitRange{Int64}}, true}, SubArray{Int64, 1, Vector{Int64}, Tuple{UnitRange{Int64}}, true}, SubArray{Int64, 1, Vector{Int64}, Tuple{UnitRange{Int64}}, true}, SubArray{Int64, 1, Vector{Int64}, Tuple{UnitRange{Int64}}, true}, SubArray{Int64, 1, Vector{Int64}, Tuple{UnitRange{Int64}}, true}, SubArray{Int64, 1, Vector{Int64}, Tuple{UnitRange{Int64}}, true}, SubArray{Int64, 1, Vector{Int64}, Tuple{UnitRange{Int64}}, true}, SubArray{Float64, 1, Vector{Float64}, Tuple{UnitRange{Int64}}, true}, SubArray{Int64, 1, Vector{Int64}, Tuple{UnitRange{Int64}}, true}, SubArray{Int64, 1, Vector{Int64}, Tuple{UnitRange{Int64}}, true}}}}, Diagonal{Float64, Vector{Float64}}, var\"#lik_fn#34\"{Int64, Bool, Bool, Bool, Bool, Bool, Bool, Bool, Bool}, Matrix{Float64}}, Float64}, Float64, 9}})\n        @ EM2 ~/Library/CloudStorage/Dropbox/research/julia_packages/em-ak-em/src/emcore.jl:257\n      [4] chunk_mode_gradient!(result::DiffResults.MutableDiffResult{1, Float64, Tuple{Vector{Float64}}}, f::EM2.var\"#24#28\"{Int64, Vector{NamedTuple{(:subject_id, :age, :block_num, :within_block_trial, :node, :target_button, :stim_id, :rt, :isValid, :bad_browser_sub, :bad_missed_trials, :bad_acc_trials, :fast_rt_subs, :incomplete_subs, :sub, :trial, :targetid, :keyid), Tuple{SubArray{Int64, 1, Vector{Int64}, Tuple{UnitRange{Int64}}, true}, SubArray{Float64, 1, Vector{Float64}, Tuple{UnitRange{Int64}}, true}, SubArray{Int64, 1, Vector{Int64}, Tuple{UnitRange{Int64}}, true}, SubArray{Int64, 1, Vector{Int64}, Tuple{UnitRange{Int64}}, true}, SubArray{Int64, 1, Vector{Int64}, Tuple{UnitRange{Int64}}, true}, SubArray{String1, 1, PooledArrays.PooledVector{String1, UInt32, Vector{UInt32}}, Tuple{UnitRange{Int64}}, true}, SubArray{Int64, 1, Vector{Int64}, Tuple{UnitRange{Int64}}, true}, SubArray{Float64, 1, Vector{Float64}, Tuple{UnitRange{Int64}}, true}, SubArray{Bool, 1, BitVector, Tuple{UnitRange{Int64}}, true}, SubArray{Int64, 1, Vector{Int64}, Tuple{UnitRange{Int64}}, true}, SubArray{Int64, 1, Vector{Int64}, Tuple{UnitRange{Int64}}, true}, SubArray{Int64, 1, Vector{Int64}, Tuple{UnitRange{Int64}}, true}, SubArray{Int64, 1, Vector{Int64}, Tuple{UnitRange{Int64}}, true}, SubArray{Int64, 1, Vector{Int64}, Tuple{UnitRange{Int64}}, true}, SubArray{Int64, 1, Vector{Int64}, Tuple{UnitRange{Int64}}, true}, SubArray{Float64, 1, Vector{Float64}, Tuple{UnitRange{Int64}}, true}, SubArray{Int64, 1, Vector{Int64}, Tuple{UnitRange{Int64}}, true}, SubArray{Int64, 1, Vector{Int64}, Tuple{UnitRange{Int64}}, true}}}}, Diagonal{Float64, Vector{Float64}}, var\"#lik_fn#34\"{Int64, Bool, Bool, Bool, Bool, Bool, Bool, Bool, Bool}, Matrix{Float64}}, x::Vector{Float64}, cfg::ForwardDiff.GradientConfig{ForwardDiff.Tag{EM2.var\"#24#28\"{Int64, Vector{NamedTuple{(:subject_id, :age, :block_num, :within_block_trial, :node, :target_button, :stim_id, :rt, :isValid, :bad_browser_sub, :bad_missed_trials, :bad_acc_trials, :fast_rt_subs, :incomplete_subs, :sub, :trial, :targetid, :keyid), Tuple{SubArray{Int64, 1, Vector{Int64}, Tuple{UnitRange{Int64}}, true}, SubArray{Float64, 1, Vector{Float64}, Tuple{UnitRange{Int64}}, true}, SubArray{Int64, 1, Vector{Int64}, Tuple{UnitRange{Int64}}, true}, SubArray{Int64, 1, Vector{Int64}, Tuple{UnitRange{Int64}}, true}, SubArray{Int64, 1, Vector{Int64}, Tuple{UnitRange{Int64}}, true}, SubArray{String1, 1, PooledArrays.PooledVector{String1, UInt32, Vector{UInt32}}, Tuple{UnitRange{Int64}}, true}, SubArray{Int64, 1, Vector{Int64}, Tuple{UnitRange{Int64}}, true}, SubArray{Float64, 1, Vector{Float64}, Tuple{UnitRange{Int64}}, true}, SubArray{Bool, 1, BitVector, Tuple{UnitRange{Int64}}, true}, SubArray{Int64, 1, Vector{Int64}, Tuple{UnitRange{Int64}}, true}, SubArray{Int64, 1, Vector{Int64}, Tuple{UnitRange{Int64}}, true}, SubArray{Int64, 1, Vector{Int64}, Tuple{UnitRange{Int64}}, true}, SubArray{Int64, 1, Vector{Int64}, Tuple{UnitRange{Int64}}, true}, SubArray{Int64, 1, Vector{Int64}, Tuple{UnitRange{Int64}}, true}, SubArray{Int64, 1, Vector{Int64}, Tuple{UnitRange{Int64}}, true}, SubArray{Float64, 1, Vector{Float64}, Tuple{UnitRange{Int64}}, true}, SubArray{Int64, 1, Vector{Int64}, Tuple{UnitRange{Int64}}, true}, SubArray{Int64, 1, Vector{Int64}, Tuple{UnitRange{Int64}}, true}}}}, Diagonal{Float64, Vector{Float64}}, var\"#lik_fn#34\"{Int64, Bool, Bool, Bool, Bool, Bool, Bool, Bool, Bool}, Matrix{Float64}}, Float64}, Float64, 9, Vector{ForwardDiff.Dual{ForwardDiff.Tag{EM2.var\"#24#28\"{Int64, Vector{NamedTuple{(:subject_id, :age, :block_num, :within_block_trial, :node, :target_button, :stim_id, :rt, :isValid, :bad_browser_sub, :bad_missed_trials, :bad_acc_trials, :fast_rt_subs, :incomplete_subs, :sub, :trial, :targetid, :keyid), Tuple{SubArray{Int64, 1, Vector{Int64}, Tuple{UnitRange{Int64}}, true}, SubArray{Float64, 1, Vector{Float64}, Tuple{UnitRange{Int64}}, true}, SubArray{Int64, 1, Vector{Int64}, Tuple{UnitRange{Int64}}, true}, SubArray{Int64, 1, Vector{Int64}, Tuple{UnitRange{Int64}}, true}, SubArray{Int64, 1, Vector{Int64}, Tuple{UnitRange{Int64}}, true}, SubArray{String1, 1, PooledArrays.PooledVector{String1, UInt32, Vector{UInt32}}, Tuple{UnitRange{Int64}}, true}, SubArray{Int64, 1, Vector{Int64}, Tuple{UnitRange{Int64}}, true}, SubArray{Float64, 1, Vector{Float64}, Tuple{UnitRange{Int64}}, true}, SubArray{Bool, 1, BitVector, Tuple{UnitRange{Int64}}, true}, SubArray{Int64, 1, Vector{Int64}, Tuple{UnitRange{Int64}}, true}, SubArray{Int64, 1, Vector{Int64}, Tuple{UnitRange{Int64}}, true}, SubArray{Int64, 1, Vector{Int64}, Tuple{UnitRange{Int64}}, true}, SubArray{Int64, 1, Vector{Int64}, Tuple{UnitRange{Int64}}, true}, SubArray{Int64, 1, Vector{Int64}, Tuple{UnitRange{Int64}}, true}, SubArray{Int64, 1, Vector{Int64}, Tuple{UnitRange{Int64}}, true}, SubArray{Float64, 1, Vector{Float64}, Tuple{UnitRange{Int64}}, true}, SubArray{Int64, 1, Vector{Int64}, Tuple{UnitRange{Int64}}, true}, SubArray{Int64, 1, Vector{Int64}, Tuple{UnitRange{Int64}}, true}}}}, Diagonal{Float64, Vector{Float64}}, var\"#lik_fn#34\"{Int64, Bool, Bool, Bool, Bool, Bool, Bool, Bool, Bool}, Matrix{Float64}}, Float64}, Float64, 9}}})\n        @ ForwardDiff ~/.julia/packages/ForwardDiff/PcZ48/src/gradient.jl:123\n      [5] gradient!\n        @ ~/.julia/packages/ForwardDiff/PcZ48/src/gradient.jl:39 [inlined]\n      [6] gradient!\n        @ ~/.julia/packages/ForwardDiff/PcZ48/src/gradient.jl:35 [inlined]\n      [7] (::NLSolversBase.var\"#14#18\"{Float64, EM2.var\"#24#28\"{Int64, Vector{NamedTuple{(:subject_id, :age, :block_num, :within_block_trial, :node, :target_button, :stim_id, :rt, :isValid, :bad_browser_sub, :bad_missed_trials, :bad_acc_trials, :fast_rt_subs, :incomplete_subs, :sub, :trial, :targetid, :keyid), Tuple{SubArray{Int64, 1, Vector{Int64}, Tuple{UnitRange{Int64}}, true}, SubArray{Float64, 1, Vector{Float64}, Tuple{UnitRange{Int64}}, true}, SubArray{Int64, 1, Vector{Int64}, Tuple{UnitRange{Int64}}, true}, SubArray{Int64, 1, Vector{Int64}, Tuple{UnitRange{Int64}}, true}, SubArray{Int64, 1, Vector{Int64}, Tuple{UnitRange{Int64}}, true}, SubArray{String1, 1, PooledArrays.PooledVector{String1, UInt32, Vector{UInt32}}, Tuple{UnitRange{Int64}}, true}, SubArray{Int64, 1, Vector{Int64}, Tuple{UnitRange{Int64}}, true}, SubArray{Float64, 1, Vector{Float64}, Tuple{UnitRange{Int64}}, true}, SubArray{Bool, 1, BitVector, Tuple{UnitRange{Int64}}, true}, SubArray{Int64, 1, Vector{Int64}, Tuple{UnitRange{Int64}}, true}, SubArray{Int64, 1, Vector{Int64}, Tuple{UnitRange{Int64}}, true}, SubArray{Int64, 1, Vector{Int64}, Tuple{UnitRange{Int64}}, true}, SubArray{Int64, 1, Vector{Int64}, Tuple{UnitRange{Int64}}, true}, SubArray{Int64, 1, Vector{Int64}, Tuple{UnitRange{Int64}}, true}, SubArray{Int64, 1, Vector{Int64}, Tuple{UnitRange{Int64}}, true}, SubArray{Float64, 1, Vector{Float64}, Tuple{UnitRange{Int64}}, true}, SubArray{Int64, 1, Vector{Int64}, Tuple{UnitRange{Int64}}, true}, SubArray{Int64, 1, Vector{Int64}, Tuple{UnitRange{Int64}}, true}}}}, Diagonal{Float64, Vector{Float64}}, var\"#lik_fn#34\"{Int64, Bool, Bool, Bool, Bool, Bool, Bool, Bool, Bool}, Matrix{Float64}}, ForwardDiff.GradientConfig{ForwardDiff.Tag{EM2.var\"#24#28\"{Int64, Vector{NamedTuple{(:subject_id, :age, :block_num, :within_block_trial, :node, :target_button, :stim_id, :rt, :isValid, :bad_browser_sub, :bad_missed_trials, :bad_acc_trials, :fast_rt_subs, :incomplete_subs, :sub, :trial, :targetid, :keyid), Tuple{SubArray{Int64, 1, Vector{Int64}, Tuple{UnitRange{Int64}}, true}, SubArray{Float64, 1, Vector{Float64}, Tuple{UnitRange{Int64}}, true}, SubArray{Int64, 1, Vector{Int64}, Tuple{UnitRange{Int64}}, true}, SubArray{Int64, 1, Vector{Int64}, Tuple{UnitRange{Int64}}, true}, SubArray{Int64, 1, Vector{Int64}, Tuple{UnitRange{Int64}}, true}, SubArray{String1, 1, PooledArrays.PooledVector{String1, UInt32, Vector{UInt32}}, Tuple{UnitRange{Int64}}, true}, SubArray{Int64, 1, Vector{Int64}, Tuple{UnitRange{Int64}}, true}, SubArray{Float64, 1, Vector{Float64}, Tuple{UnitRange{Int64}}, true}, SubArray{Bool, 1, BitVector, Tuple{UnitRange{Int64}}, true}, SubArray{Int64, 1, Vector{Int64}, Tuple{UnitRange{Int64}}, true}, SubArray{Int64, 1, Vector{Int64}, Tuple{UnitRange{Int64}}, true}, SubArray{Int64, 1, Vector{Int64}, Tuple{UnitRange{Int64}}, true}, SubArray{Int64, 1, Vector{Int64}, Tuple{UnitRange{Int64}}, true}, SubArray{Int64, 1, Vector{Int64}, Tuple{UnitRange{Int64}}, true}, SubArray{Int64, 1, Vector{Int64}, Tuple{UnitRange{Int64}}, true}, SubArray{Float64, 1, Vector{Float64}, Tuple{UnitRange{Int64}}, true}, SubArray{Int64, 1, Vector{Int64}, Tuple{UnitRange{Int64}}, true}, SubArray{Int64, 1, Vector{Int64}, Tuple{UnitRange{Int64}}, true}}}}, Diagonal{Float64, Vector{Float64}}, var\"#lik_fn#34\"{Int64, Bool, Bool, Bool, Bool, Bool, Bool, Bool, Bool}, Matrix{Float64}}, Float64}, Float64, 9, Vector{ForwardDiff.Dual{ForwardDiff.Tag{EM2.var\"#24#28\"{Int64, Vector{NamedTuple{(:subject_id, :age, :block_num, :within_block_trial, :node, :target_button, :stim_id, :rt, :isValid, :bad_browser_sub, :bad_missed_trials, :bad_acc_trials, :fast_rt_subs, :incomplete_subs, :sub, :trial, :targetid, :keyid), Tuple{SubArray{Int64, 1, Vector{Int64}, Tuple{UnitRange{Int64}}, true}, SubArray{Float64, 1, Vector{Float64}, Tuple{UnitRange{Int64}}, true}, SubArray{Int64, 1, Vector{Int64}, Tuple{UnitRange{Int64}}, true}, SubArray{Int64, 1, Vector{Int64}, Tuple{UnitRange{Int64}}, true}, SubArray{Int64, 1, Vector{Int64}, Tuple{UnitRange{Int64}}, true}, SubArray{String1, 1, PooledArrays.PooledVector{String1, UInt32, Vector{UInt32}}, Tuple{UnitRange{Int64}}, true}, SubArray{Int64, 1, Vector{Int64}, Tuple{UnitRange{Int64}}, true}, SubArray{Float64, 1, Vector{Float64}, Tuple{UnitRange{Int64}}, true}, SubArray{Bool, 1, BitVector, Tuple{UnitRange{Int64}}, true}, SubArray{Int64, 1, Vector{Int64}, Tuple{UnitRange{Int64}}, true}, SubArray{Int64, 1, Vector{Int64}, Tuple{UnitRange{Int64}}, true}, SubArray{Int64, 1, Vector{Int64}, Tuple{UnitRange{Int64}}, true}, SubArray{Int64, 1, Vector{Int64}, Tuple{UnitRange{Int64}}, true}, SubArray{Int64, 1, Vector{Int64}, Tuple{UnitRange{Int64}}, true}, SubArray{Int64, 1, Vector{Int64}, Tuple{UnitRange{Int64}}, true}, SubArray{Float64, 1, Vector{Float64}, Tuple{UnitRange{Int64}}, true}, SubArray{Int64, 1, Vector{Int64}, Tuple{UnitRange{Int64}}, true}, SubArray{Int64, 1, Vector{Int64}, Tuple{UnitRange{Int64}}, true}}}}, Diagonal{Float64, Vector{Float64}}, var\"#lik_fn#34\"{Int64, Bool, Bool, Bool, Bool, Bool, Bool, Bool, Bool}, Matrix{Float64}}, Float64}, Float64, 9}}}})(out::Vector{Float64}, x::Vector{Float64})\n        @ NLSolversBase ~/.julia/packages/NLSolversBase/kavn7/src/objective_types/oncedifferentiable.jl:70\n      [8] value_gradient!!(obj::NLSolversBase.OnceDifferentiable{Float64, Vector{Float64}, Vector{Float64}}, x::Vector{Float64})\n        @ NLSolversBase ~/.julia/packages/NLSolversBase/kavn7/src/interface.jl:82\n      [9] initial_state(method::Optim.LBFGS{Nothing, LineSearches.InitialStatic{Float64}, LineSearches.HagerZhang{Float64, Base.RefValue{Bool}}, Optim.var\"#19#21\"}, options::Optim.Options{Float64, Nothing}, d::NLSolversBase.OnceDifferentiable{Float64, Vector{Float64}, Vector{Float64}}, initial_x::Vector{Float64})\n        @ Optim ~/.julia/packages/Optim/Adqv3/src/multivariate/solvers/first_order/l_bfgs.jl:164\n     [10] optimize\n        @ ~/.julia/packages/Optim/Adqv3/src/multivariate/optimize/optimize.jl:36 [inlined]\n     [11] #optimize#89\n        @ ~/.julia/packages/Optim/Adqv3/src/multivariate/optimize/interface.jl:143 [inlined]\n     [12] optimize (repeats 2 times)\n        @ ~/.julia/packages/Optim/Adqv3/src/multivariate/optimize/interface.jl:139 [inlined]\n     [13] optimizesubject\n        @ ~/Library/CloudStorage/Dropbox/research/julia_packages/em-ak-em/src/emutils.jl:5 [inlined]\n     [14] macro expansion\n        @ ~/Library/CloudStorage/Dropbox/research/julia_packages/em-ak-em/src/emcore.jl:259 [inlined]\n     [15] (::EM2.var\"#163#threadsfor_fun#26\"{EM2.var\"#163#threadsfor_fun#23#27\"{Vector{NamedTuple{(:subject_id, :age, :block_num, :within_block_trial, :node, :target_button, :stim_id, :rt, :isValid, :bad_browser_sub, :bad_missed_trials, :bad_acc_trials, :fast_rt_subs, :incomplete_subs, :sub, :trial, :targetid, :keyid), Tuple{SubArray{Int64, 1, Vector{Int64}, Tuple{UnitRange{Int64}}, true}, SubArray{Float64, 1, Vector{Float64}, Tuple{UnitRange{Int64}}, true}, SubArray{Int64, 1, Vector{Int64}, Tuple{UnitRange{Int64}}, true}, SubArray{Int64, 1, Vector{Int64}, Tuple{UnitRange{Int64}}, true}, SubArray{Int64, 1, Vector{Int64}, Tuple{UnitRange{Int64}}, true}, SubArray{String1, 1, PooledArrays.PooledVector{String1, UInt32, Vector{UInt32}}, Tuple{UnitRange{Int64}}, true}, SubArray{Int64, 1, Vector{Int64}, Tuple{UnitRange{Int64}}, true}, SubArray{Float64, 1, Vector{Float64}, Tuple{UnitRange{Int64}}, true}, SubArray{Bool, 1, BitVector, Tuple{UnitRange{Int64}}, true}, SubArray{Int64, 1, Vector{Int64}, Tuple{UnitRange{Int64}}, true}, SubArray{Int64, 1, Vector{Int64}, Tuple{UnitRange{Int64}}, true}, SubArray{Int64, 1, Vector{Int64}, Tuple{UnitRange{Int64}}, true}, SubArray{Int64, 1, Vector{Int64}, Tuple{UnitRange{Int64}}, true}, SubArray{Int64, 1, Vector{Int64}, Tuple{UnitRange{Int64}}, true}, SubArray{Int64, 1, Vector{Int64}, Tuple{UnitRange{Int64}}, true}, SubArray{Float64, 1, Vector{Float64}, Tuple{UnitRange{Int64}}, true}, SubArray{Int64, 1, Vector{Int64}, Tuple{UnitRange{Int64}}, true}, SubArray{Int64, 1, Vector{Int64}, Tuple{UnitRange{Int64}}, true}}}}, Matrix{Float64}, Matrix{Float64}, Vector{Float64}, Array{Float64, 3}, Diagonal{Float64, Vector{Float64}}, var\"#lik_fn#34\"{Int64, Bool, Bool, Bool, Bool, Bool, Bool, Bool, Bool}, Matrix{Float64}, UnitRange{Int64}}})(tid::Int64; onethread::Bool)\n        @ EM2 ./threadingconstructs.jl:200\n     [16] #163#threadsfor_fun\n        @ ./threadingconstructs.jl:167 [inlined]\n     [17] (::Base.Threads.var\"#1#2\"{EM2.var\"#163#threadsfor_fun#26\"{EM2.var\"#163#threadsfor_fun#23#27\"{Vector{NamedTuple{(:subject_id, :age, :block_num, :within_block_trial, :node, :target_button, :stim_id, :rt, :isValid, :bad_browser_sub, :bad_missed_trials, :bad_acc_trials, :fast_rt_subs, :incomplete_subs, :sub, :trial, :targetid, :keyid), Tuple{SubArray{Int64, 1, Vector{Int64}, Tuple{UnitRange{Int64}}, true}, SubArray{Float64, 1, Vector{Float64}, Tuple{UnitRange{Int64}}, true}, SubArray{Int64, 1, Vector{Int64}, Tuple{UnitRange{Int64}}, true}, SubArray{Int64, 1, Vector{Int64}, Tuple{UnitRange{Int64}}, true}, SubArray{Int64, 1, Vector{Int64}, Tuple{UnitRange{Int64}}, true}, SubArray{String1, 1, PooledArrays.PooledVector{String1, UInt32, Vector{UInt32}}, Tuple{UnitRange{Int64}}, true}, SubArray{Int64, 1, Vector{Int64}, Tuple{UnitRange{Int64}}, true}, SubArray{Float64, 1, Vector{Float64}, Tuple{UnitRange{Int64}}, true}, SubArray{Bool, 1, BitVector, Tuple{UnitRange{Int64}}, true}, SubArray{Int64, 1, Vector{Int64}, Tuple{UnitRange{Int64}}, true}, SubArray{Int64, 1, Vector{Int64}, Tuple{UnitRange{Int64}}, true}, SubArray{Int64, 1, Vector{Int64}, Tuple{UnitRange{Int64}}, true}, SubArray{Int64, 1, Vector{Int64}, Tuple{UnitRange{Int64}}, true}, SubArray{Int64, 1, Vector{Int64}, Tuple{UnitRange{Int64}}, true}, SubArray{Int64, 1, Vector{Int64}, Tuple{UnitRange{Int64}}, true}, SubArray{Float64, 1, Vector{Float64}, Tuple{UnitRange{Int64}}, true}, SubArray{Int64, 1, Vector{Int64}, Tuple{UnitRange{Int64}}, true}, SubArray{Int64, 1, Vector{Int64}, Tuple{UnitRange{Int64}}, true}}}}, Matrix{Float64}, Matrix{Float64}, Vector{Float64}, Array{Float64, 3}, Diagonal{Float64, Vector{Float64}}, var\"#lik_fn#34\"{Int64, Bool, Bool, Bool, Bool, Bool, Bool, Bool, Bool}, Matrix{Float64}, UnitRange{Int64}}}, Int64})()\n        @ Base.Threads ./threadingconstructs.jl:139\n\n...and 11 more exceptions.\n",
     "output_type": "error",
     "traceback": [
      "TaskFailedException\n",
      "\n",
      "    nested task error: UndefVarError: `unitnorm` not defined\n",
      "    Stacktrace:\n",
      "      [1] (::var\"#lik_fn#34\"{Int64, Bool, Bool, Bool, Bool, Bool, Bool, Bool, Bool})(params::Vector{ForwardDiff.Dual{ForwardDiff.Tag{EM2.var\"#24#28\"{Int64, Vector{NamedTuple{(:subject_id, :age, :block_num, :within_block_trial, :node, :target_button, :stim_id, :rt, :isValid, :bad_browser_sub, :bad_missed_trials, :bad_acc_trials, :fast_rt_subs, :incomplete_subs, :sub, :trial, :targetid, :keyid), Tuple{SubArray{Int64, 1, Vector{Int64}, Tuple{UnitRange{Int64}}, true}, SubArray{Float64, 1, Vector{Float64}, Tuple{UnitRange{Int64}}, true}, SubArray{Int64, 1, Vector{Int64}, Tuple{UnitRange{Int64}}, true}, SubArray{Int64, 1, Vector{Int64}, Tuple{UnitRange{Int64}}, true}, SubArray{Int64, 1, Vector{Int64}, Tuple{UnitRange{Int64}}, true}, SubArray{String1, 1, PooledArrays.PooledVector{String1, UInt32, Vector{UInt32}}, Tuple{UnitRange{Int64}}, true}, SubArray{Int64, 1, Vector{Int64}, Tuple{UnitRange{Int64}}, true}, SubArray{Float64, 1, Vector{Float64}, Tuple{UnitRange{Int64}}, true}, SubArray{Bool, 1, BitVector, Tuple{UnitRange{Int64}}, true}, SubArray{Int64, 1, Vector{Int64}, Tuple{UnitRange{Int64}}, true}, SubArray{Int64, 1, Vector{Int64}, Tuple{UnitRange{Int64}}, true}, SubArray{Int64, 1, Vector{Int64}, Tuple{UnitRange{Int64}}, true}, SubArray{Int64, 1, Vector{Int64}, Tuple{UnitRange{Int64}}, true}, SubArray{Int64, 1, Vector{Int64}, Tuple{UnitRange{Int64}}, true}, SubArray{Int64, 1, Vector{Int64}, Tuple{UnitRange{Int64}}, true}, SubArray{Float64, 1, Vector{Float64}, Tuple{UnitRange{Int64}}, true}, SubArray{Int64, 1, Vector{Int64}, Tuple{UnitRange{Int64}}, true}, SubArray{Int64, 1, Vector{Int64}, Tuple{UnitRange{Int64}}, true}}}}, Diagonal{Float64, Vector{Float64}}, var\"#lik_fn#34\"{Int64, Bool, Bool, Bool, Bool, Bool, Bool, Bool, Bool}, Matrix{Float64}}, Float64}, Float64, 9}}, data::NamedTuple{(:subject_id, :age, :block_num, :within_block_trial, :node, :target_button, :stim_id, :rt, :isValid, :bad_browser_sub, :bad_missed_trials, :bad_acc_trials, :fast_rt_subs, :incomplete_subs, :sub, :trial, :targetid, :keyid), Tuple{SubArray{Int64, 1, Vector{Int64}, Tuple{UnitRange{Int64}}, true}, SubArray{Float64, 1, Vector{Float64}, Tuple{UnitRange{Int64}}, true}, SubArray{Int64, 1, Vector{Int64}, Tuple{UnitRange{Int64}}, true}, SubArray{Int64, 1, Vector{Int64}, Tuple{UnitRange{Int64}}, true}, SubArray{Int64, 1, Vector{Int64}, Tuple{UnitRange{Int64}}, true}, SubArray{String1, 1, PooledArrays.PooledVector{String1, UInt32, Vector{UInt32}}, Tuple{UnitRange{Int64}}, true}, SubArray{Int64, 1, Vector{Int64}, Tuple{UnitRange{Int64}}, true}, SubArray{Float64, 1, Vector{Float64}, Tuple{UnitRange{Int64}}, true}, SubArray{Bool, 1, BitVector, Tuple{UnitRange{Int64}}, true}, SubArray{Int64, 1, Vector{Int64}, Tuple{UnitRange{Int64}}, true}, SubArray{Int64, 1, Vector{Int64}, Tuple{UnitRange{Int64}}, true}, SubArray{Int64, 1, Vector{Int64}, Tuple{UnitRange{Int64}}, true}, SubArray{Int64, 1, Vector{Int64}, Tuple{UnitRange{Int64}}, true}, SubArray{Int64, 1, Vector{Int64}, Tuple{UnitRange{Int64}}, true}, SubArray{Int64, 1, Vector{Int64}, Tuple{UnitRange{Int64}}, true}, SubArray{Float64, 1, Vector{Float64}, Tuple{UnitRange{Int64}}, true}, SubArray{Int64, 1, Vector{Int64}, Tuple{UnitRange{Int64}}, true}, SubArray{Int64, 1, Vector{Int64}, Tuple{UnitRange{Int64}}, true}}})\n",
      "        @ Main ~/Library/CloudStorage/Dropbox/research/studies/dev_sr/GL_manuscript/dev-graph-learning/modeling/code/sr_funcs_kids.jl:515\n",
      "      [2] gaussianprior(params::Vector{ForwardDiff.Dual{ForwardDiff.Tag{EM2.var\"#24#28\"{Int64, Vector{NamedTuple{(:subject_id, :age, :block_num, :within_block_trial, :node, :target_button, :stim_id, :rt, :isValid, :bad_browser_sub, :bad_missed_trials, :bad_acc_trials, :fast_rt_subs, :incomplete_subs, :sub, :trial, :targetid, :keyid), Tuple{SubArray{Int64, 1, Vector{Int64}, Tuple{UnitRange{Int64}}, true}, SubArray{Float64, 1, Vector{Float64}, Tuple{UnitRange{Int64}}, true}, SubArray{Int64, 1, Vector{Int64}, Tuple{UnitRange{Int64}}, true}, SubArray{Int64, 1, Vector{Int64}, Tuple{UnitRange{Int64}}, true}, SubArray{Int64, 1, Vector{Int64}, Tuple{UnitRange{Int64}}, true}, SubArray{String1, 1, PooledArrays.PooledVector{String1, UInt32, Vector{UInt32}}, Tuple{UnitRange{Int64}}, true}, SubArray{Int64, 1, Vector{Int64}, Tuple{UnitRange{Int64}}, true}, SubArray{Float64, 1, Vector{Float64}, Tuple{UnitRange{Int64}}, true}, SubArray{Bool, 1, BitVector, Tuple{UnitRange{Int64}}, true}, SubArray{Int64, 1, Vector{Int64}, Tuple{UnitRange{Int64}}, true}, SubArray{Int64, 1, Vector{Int64}, Tuple{UnitRange{Int64}}, true}, SubArray{Int64, 1, Vector{Int64}, Tuple{UnitRange{Int64}}, true}, SubArray{Int64, 1, Vector{Int64}, Tuple{UnitRange{Int64}}, true}, SubArray{Int64, 1, Vector{Int64}, Tuple{UnitRange{Int64}}, true}, SubArray{Int64, 1, Vector{Int64}, Tuple{UnitRange{Int64}}, true}, SubArray{Float64, 1, Vector{Float64}, Tuple{UnitRange{Int64}}, true}, SubArray{Int64, 1, Vector{Int64}, Tuple{UnitRange{Int64}}, true}, SubArray{Int64, 1, Vector{Int64}, Tuple{UnitRange{Int64}}, true}}}}, Diagonal{Float64, Vector{Float64}}, var\"#lik_fn#34\"{Int64, Bool, Bool, Bool, Bool, Bool, Bool, Bool, Bool}, Matrix{Float64}}, Float64}, Float64, 9}}, mu::Vector{Float64}, sigma::Diagonal{Float64, Vector{Float64}}, data::NamedTuple{(:subject_id, :age, :block_num, :within_block_trial, :node, :target_button, :stim_id, :rt, :isValid, :bad_browser_sub, :bad_missed_trials, :bad_acc_trials, :fast_rt_subs, :incomplete_subs, :sub, :trial, :targetid, :keyid), Tuple{SubArray{Int64, 1, Vector{Int64}, Tuple{UnitRange{Int64}}, true}, SubArray{Float64, 1, Vector{Float64}, Tuple{UnitRange{Int64}}, true}, SubArray{Int64, 1, Vector{Int64}, Tuple{UnitRange{Int64}}, true}, SubArray{Int64, 1, Vector{Int64}, Tuple{UnitRange{Int64}}, true}, SubArray{Int64, 1, Vector{Int64}, Tuple{UnitRange{Int64}}, true}, SubArray{String1, 1, PooledArrays.PooledVector{String1, UInt32, Vector{UInt32}}, Tuple{UnitRange{Int64}}, true}, SubArray{Int64, 1, Vector{Int64}, Tuple{UnitRange{Int64}}, true}, SubArray{Float64, 1, Vector{Float64}, Tuple{UnitRange{Int64}}, true}, SubArray{Bool, 1, BitVector, Tuple{UnitRange{Int64}}, true}, SubArray{Int64, 1, Vector{Int64}, Tuple{UnitRange{Int64}}, true}, SubArray{Int64, 1, Vector{Int64}, Tuple{UnitRange{Int64}}, true}, SubArray{Int64, 1, Vector{Int64}, Tuple{UnitRange{Int64}}, true}, SubArray{Int64, 1, Vector{Int64}, Tuple{UnitRange{Int64}}, true}, SubArray{Int64, 1, Vector{Int64}, Tuple{UnitRange{Int64}}, true}, SubArray{Int64, 1, Vector{Int64}, Tuple{UnitRange{Int64}}, true}, SubArray{Float64, 1, Vector{Float64}, Tuple{UnitRange{Int64}}, true}, SubArray{Int64, 1, Vector{Int64}, Tuple{UnitRange{Int64}}, true}, SubArray{Int64, 1, Vector{Int64}, Tuple{UnitRange{Int64}}, true}}}, likfun::var\"#lik_fn#34\"{Int64, Bool, Bool, Bool, Bool, Bool, Bool, Bool, Bool})\n",
      "        @ EM2 ~/Library/CloudStorage/Dropbox/research/julia_packages/em-ak-em/src/emutils.jl:29\n",
      "      [3] (::EM2.var\"#24#28\"{Int64, Vector{NamedTuple{(:subject_id, :age, :block_num, :within_block_trial, :node, :target_button, :stim_id, :rt, :isValid, :bad_browser_sub, :bad_missed_trials, :bad_acc_trials, :fast_rt_subs, :incomplete_subs, :sub, :trial, :targetid, :keyid), Tuple{SubArray{Int64, 1, Vector{Int64}, Tuple{UnitRange{Int64}}, true}, SubArray{Float64, 1, Vector{Float64}, Tuple{UnitRange{Int64}}, true}, SubArray{Int64, 1, Vector{Int64}, Tuple{UnitRange{Int64}}, true}, SubArray{Int64, 1, Vector{Int64}, Tuple{UnitRange{Int64}}, true}, SubArray{Int64, 1, Vector{Int64}, Tuple{UnitRange{Int64}}, true}, SubArray{String1, 1, PooledArrays.PooledVector{String1, UInt32, Vector{UInt32}}, Tuple{UnitRange{Int64}}, true}, SubArray{Int64, 1, Vector{Int64}, Tuple{UnitRange{Int64}}, true}, SubArray{Float64, 1, Vector{Float64}, Tuple{UnitRange{Int64}}, true}, SubArray{Bool, 1, BitVector, Tuple{UnitRange{Int64}}, true}, SubArray{Int64, 1, Vector{Int64}, Tuple{UnitRange{Int64}}, true}, SubArray{Int64, 1, Vector{Int64}, Tuple{UnitRange{Int64}}, true}, SubArray{Int64, 1, Vector{Int64}, Tuple{UnitRange{Int64}}, true}, SubArray{Int64, 1, Vector{Int64}, Tuple{UnitRange{Int64}}, true}, SubArray{Int64, 1, Vector{Int64}, Tuple{UnitRange{Int64}}, true}, SubArray{Int64, 1, Vector{Int64}, Tuple{UnitRange{Int64}}, true}, SubArray{Float64, 1, Vector{Float64}, Tuple{UnitRange{Int64}}, true}, SubArray{Int64, 1, Vector{Int64}, Tuple{UnitRange{Int64}}, true}, SubArray{Int64, 1, Vector{Int64}, Tuple{UnitRange{Int64}}, true}}}}, Diagonal{Float64, Vector{Float64}}, var\"#lik_fn#34\"{Int64, Bool, Bool, Bool, Bool, Bool, Bool, Bool, Bool}, Matrix{Float64}})(x::Vector{ForwardDiff.Dual{ForwardDiff.Tag{EM2.var\"#24#28\"{Int64, Vector{NamedTuple{(:subject_id, :age, :block_num, :within_block_trial, :node, :target_button, :stim_id, :rt, :isValid, :bad_browser_sub, :bad_missed_trials, :bad_acc_trials, :fast_rt_subs, :incomplete_subs, :sub, :trial, :targetid, :keyid), Tuple{SubArray{Int64, 1, Vector{Int64}, Tuple{UnitRange{Int64}}, true}, SubArray{Float64, 1, Vector{Float64}, Tuple{UnitRange{Int64}}, true}, SubArray{Int64, 1, Vector{Int64}, Tuple{UnitRange{Int64}}, true}, SubArray{Int64, 1, Vector{Int64}, Tuple{UnitRange{Int64}}, true}, SubArray{Int64, 1, Vector{Int64}, Tuple{UnitRange{Int64}}, true}, SubArray{String1, 1, PooledArrays.PooledVector{String1, UInt32, Vector{UInt32}}, Tuple{UnitRange{Int64}}, true}, SubArray{Int64, 1, Vector{Int64}, Tuple{UnitRange{Int64}}, true}, SubArray{Float64, 1, Vector{Float64}, Tuple{UnitRange{Int64}}, true}, SubArray{Bool, 1, BitVector, Tuple{UnitRange{Int64}}, true}, SubArray{Int64, 1, Vector{Int64}, Tuple{UnitRange{Int64}}, true}, SubArray{Int64, 1, Vector{Int64}, Tuple{UnitRange{Int64}}, true}, SubArray{Int64, 1, Vector{Int64}, Tuple{UnitRange{Int64}}, true}, SubArray{Int64, 1, Vector{Int64}, Tuple{UnitRange{Int64}}, true}, SubArray{Int64, 1, Vector{Int64}, Tuple{UnitRange{Int64}}, true}, SubArray{Int64, 1, Vector{Int64}, Tuple{UnitRange{Int64}}, true}, SubArray{Float64, 1, Vector{Float64}, Tuple{UnitRange{Int64}}, true}, SubArray{Int64, 1, Vector{Int64}, Tuple{UnitRange{Int64}}, true}, SubArray{Int64, 1, Vector{Int64}, Tuple{UnitRange{Int64}}, true}}}}, Diagonal{Float64, Vector{Float64}}, var\"#lik_fn#34\"{Int64, Bool, Bool, Bool, Bool, Bool, Bool, Bool, Bool}, Matrix{Float64}}, Float64}, Float64, 9}})\n",
      "        @ EM2 ~/Library/CloudStorage/Dropbox/research/julia_packages/em-ak-em/src/emcore.jl:257\n",
      "      [4] chunk_mode_gradient!(result::DiffResults.MutableDiffResult{1, Float64, Tuple{Vector{Float64}}}, f::EM2.var\"#24#28\"{Int64, Vector{NamedTuple{(:subject_id, :age, :block_num, :within_block_trial, :node, :target_button, :stim_id, :rt, :isValid, :bad_browser_sub, :bad_missed_trials, :bad_acc_trials, :fast_rt_subs, :incomplete_subs, :sub, :trial, :targetid, :keyid), Tuple{SubArray{Int64, 1, Vector{Int64}, Tuple{UnitRange{Int64}}, true}, SubArray{Float64, 1, Vector{Float64}, Tuple{UnitRange{Int64}}, true}, SubArray{Int64, 1, Vector{Int64}, Tuple{UnitRange{Int64}}, true}, SubArray{Int64, 1, Vector{Int64}, Tuple{UnitRange{Int64}}, true}, SubArray{Int64, 1, Vector{Int64}, Tuple{UnitRange{Int64}}, true}, SubArray{String1, 1, PooledArrays.PooledVector{String1, UInt32, Vector{UInt32}}, Tuple{UnitRange{Int64}}, true}, SubArray{Int64, 1, Vector{Int64}, Tuple{UnitRange{Int64}}, true}, SubArray{Float64, 1, Vector{Float64}, Tuple{UnitRange{Int64}}, true}, SubArray{Bool, 1, BitVector, Tuple{UnitRange{Int64}}, true}, SubArray{Int64, 1, Vector{Int64}, Tuple{UnitRange{Int64}}, true}, SubArray{Int64, 1, Vector{Int64}, Tuple{UnitRange{Int64}}, true}, SubArray{Int64, 1, Vector{Int64}, Tuple{UnitRange{Int64}}, true}, SubArray{Int64, 1, Vector{Int64}, Tuple{UnitRange{Int64}}, true}, SubArray{Int64, 1, Vector{Int64}, Tuple{UnitRange{Int64}}, true}, SubArray{Int64, 1, Vector{Int64}, Tuple{UnitRange{Int64}}, true}, SubArray{Float64, 1, Vector{Float64}, Tuple{UnitRange{Int64}}, true}, SubArray{Int64, 1, Vector{Int64}, Tuple{UnitRange{Int64}}, true}, SubArray{Int64, 1, Vector{Int64}, Tuple{UnitRange{Int64}}, true}}}}, Diagonal{Float64, Vector{Float64}}, var\"#lik_fn#34\"{Int64, Bool, Bool, Bool, Bool, Bool, Bool, Bool, Bool}, Matrix{Float64}}, x::Vector{Float64}, cfg::ForwardDiff.GradientConfig{ForwardDiff.Tag{EM2.var\"#24#28\"{Int64, Vector{NamedTuple{(:subject_id, :age, :block_num, :within_block_trial, :node, :target_button, :stim_id, :rt, :isValid, :bad_browser_sub, :bad_missed_trials, :bad_acc_trials, :fast_rt_subs, :incomplete_subs, :sub, :trial, :targetid, :keyid), Tuple{SubArray{Int64, 1, Vector{Int64}, Tuple{UnitRange{Int64}}, true}, SubArray{Float64, 1, Vector{Float64}, Tuple{UnitRange{Int64}}, true}, SubArray{Int64, 1, Vector{Int64}, Tuple{UnitRange{Int64}}, true}, SubArray{Int64, 1, Vector{Int64}, Tuple{UnitRange{Int64}}, true}, SubArray{Int64, 1, Vector{Int64}, Tuple{UnitRange{Int64}}, true}, SubArray{String1, 1, PooledArrays.PooledVector{String1, UInt32, Vector{UInt32}}, Tuple{UnitRange{Int64}}, true}, SubArray{Int64, 1, Vector{Int64}, Tuple{UnitRange{Int64}}, true}, SubArray{Float64, 1, Vector{Float64}, Tuple{UnitRange{Int64}}, true}, SubArray{Bool, 1, BitVector, Tuple{UnitRange{Int64}}, true}, SubArray{Int64, 1, Vector{Int64}, Tuple{UnitRange{Int64}}, true}, SubArray{Int64, 1, Vector{Int64}, Tuple{UnitRange{Int64}}, true}, SubArray{Int64, 1, Vector{Int64}, Tuple{UnitRange{Int64}}, true}, SubArray{Int64, 1, Vector{Int64}, Tuple{UnitRange{Int64}}, true}, SubArray{Int64, 1, Vector{Int64}, Tuple{UnitRange{Int64}}, true}, SubArray{Int64, 1, Vector{Int64}, Tuple{UnitRange{Int64}}, true}, SubArray{Float64, 1, Vector{Float64}, Tuple{UnitRange{Int64}}, true}, SubArray{Int64, 1, Vector{Int64}, Tuple{UnitRange{Int64}}, true}, SubArray{Int64, 1, Vector{Int64}, Tuple{UnitRange{Int64}}, true}}}}, Diagonal{Float64, Vector{Float64}}, var\"#lik_fn#34\"{Int64, Bool, Bool, Bool, Bool, Bool, Bool, Bool, Bool}, Matrix{Float64}}, Float64}, Float64, 9, Vector{ForwardDiff.Dual{ForwardDiff.Tag{EM2.var\"#24#28\"{Int64, Vector{NamedTuple{(:subject_id, :age, :block_num, :within_block_trial, :node, :target_button, :stim_id, :rt, :isValid, :bad_browser_sub, :bad_missed_trials, :bad_acc_trials, :fast_rt_subs, :incomplete_subs, :sub, :trial, :targetid, :keyid), Tuple{SubArray{Int64, 1, Vector{Int64}, Tuple{UnitRange{Int64}}, true}, SubArray{Float64, 1, Vector{Float64}, Tuple{UnitRange{Int64}}, true}, SubArray{Int64, 1, Vector{Int64}, Tuple{UnitRange{Int64}}, true}, SubArray{Int64, 1, Vector{Int64}, Tuple{UnitRange{Int64}}, true}, SubArray{Int64, 1, Vector{Int64}, Tuple{UnitRange{Int64}}, true}, SubArray{String1, 1, PooledArrays.PooledVector{String1, UInt32, Vector{UInt32}}, Tuple{UnitRange{Int64}}, true}, SubArray{Int64, 1, Vector{Int64}, Tuple{UnitRange{Int64}}, true}, SubArray{Float64, 1, Vector{Float64}, Tuple{UnitRange{Int64}}, true}, SubArray{Bool, 1, BitVector, Tuple{UnitRange{Int64}}, true}, SubArray{Int64, 1, Vector{Int64}, Tuple{UnitRange{Int64}}, true}, SubArray{Int64, 1, Vector{Int64}, Tuple{UnitRange{Int64}}, true}, SubArray{Int64, 1, Vector{Int64}, Tuple{UnitRange{Int64}}, true}, SubArray{Int64, 1, Vector{Int64}, Tuple{UnitRange{Int64}}, true}, SubArray{Int64, 1, Vector{Int64}, Tuple{UnitRange{Int64}}, true}, SubArray{Int64, 1, Vector{Int64}, Tuple{UnitRange{Int64}}, true}, SubArray{Float64, 1, Vector{Float64}, Tuple{UnitRange{Int64}}, true}, SubArray{Int64, 1, Vector{Int64}, Tuple{UnitRange{Int64}}, true}, SubArray{Int64, 1, Vector{Int64}, Tuple{UnitRange{Int64}}, true}}}}, Diagonal{Float64, Vector{Float64}}, var\"#lik_fn#34\"{Int64, Bool, Bool, Bool, Bool, Bool, Bool, Bool, Bool}, Matrix{Float64}}, Float64}, Float64, 9}}})\n",
      "        @ ForwardDiff ~/.julia/packages/ForwardDiff/PcZ48/src/gradient.jl:123\n",
      "      [5] gradient!\n",
      "        @ ~/.julia/packages/ForwardDiff/PcZ48/src/gradient.jl:39 [inlined]\n",
      "      [6] gradient!\n",
      "        @ ~/.julia/packages/ForwardDiff/PcZ48/src/gradient.jl:35 [inlined]\n",
      "      [7] (::NLSolversBase.var\"#14#18\"{Float64, EM2.var\"#24#28\"{Int64, Vector{NamedTuple{(:subject_id, :age, :block_num, :within_block_trial, :node, :target_button, :stim_id, :rt, :isValid, :bad_browser_sub, :bad_missed_trials, :bad_acc_trials, :fast_rt_subs, :incomplete_subs, :sub, :trial, :targetid, :keyid), Tuple{SubArray{Int64, 1, Vector{Int64}, Tuple{UnitRange{Int64}}, true}, SubArray{Float64, 1, Vector{Float64}, Tuple{UnitRange{Int64}}, true}, SubArray{Int64, 1, Vector{Int64}, Tuple{UnitRange{Int64}}, true}, SubArray{Int64, 1, Vector{Int64}, Tuple{UnitRange{Int64}}, true}, SubArray{Int64, 1, Vector{Int64}, Tuple{UnitRange{Int64}}, true}, SubArray{String1, 1, PooledArrays.PooledVector{String1, UInt32, Vector{UInt32}}, Tuple{UnitRange{Int64}}, true}, SubArray{Int64, 1, Vector{Int64}, Tuple{UnitRange{Int64}}, true}, SubArray{Float64, 1, Vector{Float64}, Tuple{UnitRange{Int64}}, true}, SubArray{Bool, 1, BitVector, Tuple{UnitRange{Int64}}, true}, SubArray{Int64, 1, Vector{Int64}, Tuple{UnitRange{Int64}}, true}, SubArray{Int64, 1, Vector{Int64}, Tuple{UnitRange{Int64}}, true}, SubArray{Int64, 1, Vector{Int64}, Tuple{UnitRange{Int64}}, true}, SubArray{Int64, 1, Vector{Int64}, Tuple{UnitRange{Int64}}, true}, SubArray{Int64, 1, Vector{Int64}, Tuple{UnitRange{Int64}}, true}, SubArray{Int64, 1, Vector{Int64}, Tuple{UnitRange{Int64}}, true}, SubArray{Float64, 1, Vector{Float64}, Tuple{UnitRange{Int64}}, true}, SubArray{Int64, 1, Vector{Int64}, Tuple{UnitRange{Int64}}, true}, SubArray{Int64, 1, Vector{Int64}, Tuple{UnitRange{Int64}}, true}}}}, Diagonal{Float64, Vector{Float64}}, var\"#lik_fn#34\"{Int64, Bool, Bool, Bool, Bool, Bool, Bool, Bool, Bool}, Matrix{Float64}}, ForwardDiff.GradientConfig{ForwardDiff.Tag{EM2.var\"#24#28\"{Int64, Vector{NamedTuple{(:subject_id, :age, :block_num, :within_block_trial, :node, :target_button, :stim_id, :rt, :isValid, :bad_browser_sub, :bad_missed_trials, :bad_acc_trials, :fast_rt_subs, :incomplete_subs, :sub, :trial, :targetid, :keyid), Tuple{SubArray{Int64, 1, Vector{Int64}, Tuple{UnitRange{Int64}}, true}, SubArray{Float64, 1, Vector{Float64}, Tuple{UnitRange{Int64}}, true}, SubArray{Int64, 1, Vector{Int64}, Tuple{UnitRange{Int64}}, true}, SubArray{Int64, 1, Vector{Int64}, Tuple{UnitRange{Int64}}, true}, SubArray{Int64, 1, Vector{Int64}, Tuple{UnitRange{Int64}}, true}, SubArray{String1, 1, PooledArrays.PooledVector{String1, UInt32, Vector{UInt32}}, Tuple{UnitRange{Int64}}, true}, SubArray{Int64, 1, Vector{Int64}, Tuple{UnitRange{Int64}}, true}, SubArray{Float64, 1, Vector{Float64}, Tuple{UnitRange{Int64}}, true}, SubArray{Bool, 1, BitVector, Tuple{UnitRange{Int64}}, true}, SubArray{Int64, 1, Vector{Int64}, Tuple{UnitRange{Int64}}, true}, SubArray{Int64, 1, Vector{Int64}, Tuple{UnitRange{Int64}}, true}, SubArray{Int64, 1, Vector{Int64}, Tuple{UnitRange{Int64}}, true}, SubArray{Int64, 1, Vector{Int64}, Tuple{UnitRange{Int64}}, true}, SubArray{Int64, 1, Vector{Int64}, Tuple{UnitRange{Int64}}, true}, SubArray{Int64, 1, Vector{Int64}, Tuple{UnitRange{Int64}}, true}, SubArray{Float64, 1, Vector{Float64}, Tuple{UnitRange{Int64}}, true}, SubArray{Int64, 1, Vector{Int64}, Tuple{UnitRange{Int64}}, true}, SubArray{Int64, 1, Vector{Int64}, Tuple{UnitRange{Int64}}, true}}}}, Diagonal{Float64, Vector{Float64}}, var\"#lik_fn#34\"{Int64, Bool, Bool, Bool, Bool, Bool, Bool, Bool, Bool}, Matrix{Float64}}, Float64}, Float64, 9, Vector{ForwardDiff.Dual{ForwardDiff.Tag{EM2.var\"#24#28\"{Int64, Vector{NamedTuple{(:subject_id, :age, :block_num, :within_block_trial, :node, :target_button, :stim_id, :rt, :isValid, :bad_browser_sub, :bad_missed_trials, :bad_acc_trials, :fast_rt_subs, :incomplete_subs, :sub, :trial, :targetid, :keyid), Tuple{SubArray{Int64, 1, Vector{Int64}, Tuple{UnitRange{Int64}}, true}, SubArray{Float64, 1, Vector{Float64}, Tuple{UnitRange{Int64}}, true}, SubArray{Int64, 1, Vector{Int64}, Tuple{UnitRange{Int64}}, true}, SubArray{Int64, 1, Vector{Int64}, Tuple{UnitRange{Int64}}, true}, SubArray{Int64, 1, Vector{Int64}, Tuple{UnitRange{Int64}}, true}, SubArray{String1, 1, PooledArrays.PooledVector{String1, UInt32, Vector{UInt32}}, Tuple{UnitRange{Int64}}, true}, SubArray{Int64, 1, Vector{Int64}, Tuple{UnitRange{Int64}}, true}, SubArray{Float64, 1, Vector{Float64}, Tuple{UnitRange{Int64}}, true}, SubArray{Bool, 1, BitVector, Tuple{UnitRange{Int64}}, true}, SubArray{Int64, 1, Vector{Int64}, Tuple{UnitRange{Int64}}, true}, SubArray{Int64, 1, Vector{Int64}, Tuple{UnitRange{Int64}}, true}, SubArray{Int64, 1, Vector{Int64}, Tuple{UnitRange{Int64}}, true}, SubArray{Int64, 1, Vector{Int64}, Tuple{UnitRange{Int64}}, true}, SubArray{Int64, 1, Vector{Int64}, Tuple{UnitRange{Int64}}, true}, SubArray{Int64, 1, Vector{Int64}, Tuple{UnitRange{Int64}}, true}, SubArray{Float64, 1, Vector{Float64}, Tuple{UnitRange{Int64}}, true}, SubArray{Int64, 1, Vector{Int64}, Tuple{UnitRange{Int64}}, true}, SubArray{Int64, 1, Vector{Int64}, Tuple{UnitRange{Int64}}, true}}}}, Diagonal{Float64, Vector{Float64}}, var\"#lik_fn#34\"{Int64, Bool, Bool, Bool, Bool, Bool, Bool, Bool, Bool}, Matrix{Float64}}, Float64}, Float64, 9}}}})(out::Vector{Float64}, x::Vector{Float64})\n",
      "        @ NLSolversBase ~/.julia/packages/NLSolversBase/kavn7/src/objective_types/oncedifferentiable.jl:70\n",
      "      [8] value_gradient!!(obj::NLSolversBase.OnceDifferentiable{Float64, Vector{Float64}, Vector{Float64}}, x::Vector{Float64})\n",
      "        @ NLSolversBase ~/.julia/packages/NLSolversBase/kavn7/src/interface.jl:82\n",
      "      [9] initial_state(method::Optim.LBFGS{Nothing, LineSearches.InitialStatic{Float64}, LineSearches.HagerZhang{Float64, Base.RefValue{Bool}}, Optim.var\"#19#21\"}, options::Optim.Options{Float64, Nothing}, d::NLSolversBase.OnceDifferentiable{Float64, Vector{Float64}, Vector{Float64}}, initial_x::Vector{Float64})\n",
      "        @ Optim ~/.julia/packages/Optim/Adqv3/src/multivariate/solvers/first_order/l_bfgs.jl:164\n",
      "     [10] optimize\n",
      "        @ ~/.julia/packages/Optim/Adqv3/src/multivariate/optimize/optimize.jl:36 [inlined]\n",
      "     [11] #optimize#89\n",
      "        @ ~/.julia/packages/Optim/Adqv3/src/multivariate/optimize/interface.jl:143 [inlined]\n",
      "     [12] optimize (repeats 2 times)\n",
      "        @ ~/.julia/packages/Optim/Adqv3/src/multivariate/optimize/interface.jl:139 [inlined]\n",
      "     [13] optimizesubject\n",
      "        @ ~/Library/CloudStorage/Dropbox/research/julia_packages/em-ak-em/src/emutils.jl:5 [inlined]\n",
      "     [14] macro expansion\n",
      "        @ ~/Library/CloudStorage/Dropbox/research/julia_packages/em-ak-em/src/emcore.jl:259 [inlined]\n",
      "     [15] (::EM2.var\"#163#threadsfor_fun#26\"{EM2.var\"#163#threadsfor_fun#23#27\"{Vector{NamedTuple{(:subject_id, :age, :block_num, :within_block_trial, :node, :target_button, :stim_id, :rt, :isValid, :bad_browser_sub, :bad_missed_trials, :bad_acc_trials, :fast_rt_subs, :incomplete_subs, :sub, :trial, :targetid, :keyid), Tuple{SubArray{Int64, 1, Vector{Int64}, Tuple{UnitRange{Int64}}, true}, SubArray{Float64, 1, Vector{Float64}, Tuple{UnitRange{Int64}}, true}, SubArray{Int64, 1, Vector{Int64}, Tuple{UnitRange{Int64}}, true}, SubArray{Int64, 1, Vector{Int64}, Tuple{UnitRange{Int64}}, true}, SubArray{Int64, 1, Vector{Int64}, Tuple{UnitRange{Int64}}, true}, SubArray{String1, 1, PooledArrays.PooledVector{String1, UInt32, Vector{UInt32}}, Tuple{UnitRange{Int64}}, true}, SubArray{Int64, 1, Vector{Int64}, Tuple{UnitRange{Int64}}, true}, SubArray{Float64, 1, Vector{Float64}, Tuple{UnitRange{Int64}}, true}, SubArray{Bool, 1, BitVector, Tuple{UnitRange{Int64}}, true}, SubArray{Int64, 1, Vector{Int64}, Tuple{UnitRange{Int64}}, true}, SubArray{Int64, 1, Vector{Int64}, Tuple{UnitRange{Int64}}, true}, SubArray{Int64, 1, Vector{Int64}, Tuple{UnitRange{Int64}}, true}, SubArray{Int64, 1, Vector{Int64}, Tuple{UnitRange{Int64}}, true}, SubArray{Int64, 1, Vector{Int64}, Tuple{UnitRange{Int64}}, true}, SubArray{Int64, 1, Vector{Int64}, Tuple{UnitRange{Int64}}, true}, SubArray{Float64, 1, Vector{Float64}, Tuple{UnitRange{Int64}}, true}, SubArray{Int64, 1, Vector{Int64}, Tuple{UnitRange{Int64}}, true}, SubArray{Int64, 1, Vector{Int64}, Tuple{UnitRange{Int64}}, true}}}}, Matrix{Float64}, Matrix{Float64}, Vector{Float64}, Array{Float64, 3}, Diagonal{Float64, Vector{Float64}}, var\"#lik_fn#34\"{Int64, Bool, Bool, Bool, Bool, Bool, Bool, Bool, Bool}, Matrix{Float64}, UnitRange{Int64}}})(tid::Int64; onethread::Bool)\n",
      "        @ EM2 ./threadingconstructs.jl:200\n",
      "     [16] #163#threadsfor_fun\n",
      "        @ ./threadingconstructs.jl:167 [inlined]\n",
      "     [17] (::Base.Threads.var\"#1#2\"{EM2.var\"#163#threadsfor_fun#26\"{EM2.var\"#163#threadsfor_fun#23#27\"{Vector{NamedTuple{(:subject_id, :age, :block_num, :within_block_trial, :node, :target_button, :stim_id, :rt, :isValid, :bad_browser_sub, :bad_missed_trials, :bad_acc_trials, :fast_rt_subs, :incomplete_subs, :sub, :trial, :targetid, :keyid), Tuple{SubArray{Int64, 1, Vector{Int64}, Tuple{UnitRange{Int64}}, true}, SubArray{Float64, 1, Vector{Float64}, Tuple{UnitRange{Int64}}, true}, SubArray{Int64, 1, Vector{Int64}, Tuple{UnitRange{Int64}}, true}, SubArray{Int64, 1, Vector{Int64}, Tuple{UnitRange{Int64}}, true}, SubArray{Int64, 1, Vector{Int64}, Tuple{UnitRange{Int64}}, true}, SubArray{String1, 1, PooledArrays.PooledVector{String1, UInt32, Vector{UInt32}}, Tuple{UnitRange{Int64}}, true}, SubArray{Int64, 1, Vector{Int64}, Tuple{UnitRange{Int64}}, true}, SubArray{Float64, 1, Vector{Float64}, Tuple{UnitRange{Int64}}, true}, SubArray{Bool, 1, BitVector, Tuple{UnitRange{Int64}}, true}, SubArray{Int64, 1, Vector{Int64}, Tuple{UnitRange{Int64}}, true}, SubArray{Int64, 1, Vector{Int64}, Tuple{UnitRange{Int64}}, true}, SubArray{Int64, 1, Vector{Int64}, Tuple{UnitRange{Int64}}, true}, SubArray{Int64, 1, Vector{Int64}, Tuple{UnitRange{Int64}}, true}, SubArray{Int64, 1, Vector{Int64}, Tuple{UnitRange{Int64}}, true}, SubArray{Int64, 1, Vector{Int64}, Tuple{UnitRange{Int64}}, true}, SubArray{Float64, 1, Vector{Float64}, Tuple{UnitRange{Int64}}, true}, SubArray{Int64, 1, Vector{Int64}, Tuple{UnitRange{Int64}}, true}, SubArray{Int64, 1, Vector{Int64}, Tuple{UnitRange{Int64}}, true}}}}, Matrix{Float64}, Matrix{Float64}, Vector{Float64}, Array{Float64, 3}, Diagonal{Float64, Vector{Float64}}, var\"#lik_fn#34\"{Int64, Bool, Bool, Bool, Bool, Bool, Bool, Bool, Bool}, Matrix{Float64}, UnitRange{Int64}}}, Int64})()\n",
      "        @ Base.Threads ./threadingconstructs.jl:139\n",
      "\n",
      "...and 11 more exceptions.\n",
      "\n",
      "\n",
      "Stacktrace:\n",
      " [1] threading_run(fun::EM2.var\"#163#threadsfor_fun#26\"{EM2.var\"#163#threadsfor_fun#23#27\"{Vector{NamedTuple{(:subject_id, :age, :block_num, :within_block_trial, :node, :target_button, :stim_id, :rt, :isValid, :bad_browser_sub, :bad_missed_trials, :bad_acc_trials, :fast_rt_subs, :incomplete_subs, :sub, :trial, :targetid, :keyid), Tuple{SubArray{Int64, 1, Vector{Int64}, Tuple{UnitRange{Int64}}, true}, SubArray{Float64, 1, Vector{Float64}, Tuple{UnitRange{Int64}}, true}, SubArray{Int64, 1, Vector{Int64}, Tuple{UnitRange{Int64}}, true}, SubArray{Int64, 1, Vector{Int64}, Tuple{UnitRange{Int64}}, true}, SubArray{Int64, 1, Vector{Int64}, Tuple{UnitRange{Int64}}, true}, SubArray{String1, 1, PooledArrays.PooledVector{String1, UInt32, Vector{UInt32}}, Tuple{UnitRange{Int64}}, true}, SubArray{Int64, 1, Vector{Int64}, Tuple{UnitRange{Int64}}, true}, SubArray{Float64, 1, Vector{Float64}, Tuple{UnitRange{Int64}}, true}, SubArray{Bool, 1, BitVector, Tuple{UnitRange{Int64}}, true}, SubArray{Int64, 1, Vector{Int64}, Tuple{UnitRange{Int64}}, true}, SubArray{Int64, 1, Vector{Int64}, Tuple{UnitRange{Int64}}, true}, SubArray{Int64, 1, Vector{Int64}, Tuple{UnitRange{Int64}}, true}, SubArray{Int64, 1, Vector{Int64}, Tuple{UnitRange{Int64}}, true}, SubArray{Int64, 1, Vector{Int64}, Tuple{UnitRange{Int64}}, true}, SubArray{Int64, 1, Vector{Int64}, Tuple{UnitRange{Int64}}, true}, SubArray{Float64, 1, Vector{Float64}, Tuple{UnitRange{Int64}}, true}, SubArray{Int64, 1, Vector{Int64}, Tuple{UnitRange{Int64}}, true}, SubArray{Int64, 1, Vector{Int64}, Tuple{UnitRange{Int64}}, true}}}}, Matrix{Float64}, Matrix{Float64}, Vector{Float64}, Array{Float64, 3}, Diagonal{Float64, Vector{Float64}}, var\"#lik_fn#34\"{Int64, Bool, Bool, Bool, Bool, Bool, Bool, Bool, Bool}, Matrix{Float64}, UnitRange{Int64}}}, static::Bool)\n",
      "   @ Base.Threads ./threadingconstructs.jl:157\n",
      " [2] macro expansion\n",
      "   @ ./threadingconstructs.jl:205 [inlined]\n",
      " [3] estep!(data::Vector{NamedTuple{(:subject_id, :age, :block_num, :within_block_trial, :node, :target_button, :stim_id, :rt, :isValid, :bad_browser_sub, :bad_missed_trials, :bad_acc_trials, :fast_rt_subs, :incomplete_subs, :sub, :trial, :targetid, :keyid), Tuple{SubArray{Int64, 1, Vector{Int64}, Tuple{UnitRange{Int64}}, true}, SubArray{Float64, 1, Vector{Float64}, Tuple{UnitRange{Int64}}, true}, SubArray{Int64, 1, Vector{Int64}, Tuple{UnitRange{Int64}}, true}, SubArray{Int64, 1, Vector{Int64}, Tuple{UnitRange{Int64}}, true}, SubArray{Int64, 1, Vector{Int64}, Tuple{UnitRange{Int64}}, true}, SubArray{String1, 1, PooledArrays.PooledVector{String1, UInt32, Vector{UInt32}}, Tuple{UnitRange{Int64}}, true}, SubArray{Int64, 1, Vector{Int64}, Tuple{UnitRange{Int64}}, true}, SubArray{Float64, 1, Vector{Float64}, Tuple{UnitRange{Int64}}, true}, SubArray{Bool, 1, BitVector, Tuple{UnitRange{Int64}}, true}, SubArray{Int64, 1, Vector{Int64}, Tuple{UnitRange{Int64}}, true}, SubArray{Int64, 1, Vector{Int64}, Tuple{UnitRange{Int64}}, true}, SubArray{Int64, 1, Vector{Int64}, Tuple{UnitRange{Int64}}, true}, SubArray{Int64, 1, Vector{Int64}, Tuple{UnitRange{Int64}}, true}, SubArray{Int64, 1, Vector{Int64}, Tuple{UnitRange{Int64}}, true}, SubArray{Int64, 1, Vector{Int64}, Tuple{UnitRange{Int64}}, true}, SubArray{Float64, 1, Vector{Float64}, Tuple{UnitRange{Int64}}, true}, SubArray{Int64, 1, Vector{Int64}, Tuple{UnitRange{Int64}}, true}, SubArray{Int64, 1, Vector{Int64}, Tuple{UnitRange{Int64}}, true}}}}, subs::Vector{Int64}, startx::Matrix{Float64}, x::Matrix{Float64}, l::Vector{Float64}, h::Array{Float64, 3}, X::Vector{Float64}, betas::Matrix{Float64}, sigma::Diagonal{Float64, Vector{Float64}}, likfun::var\"#lik_fn#34\"{Int64, Bool, Bool, Bool, Bool, Bool, Bool, Bool, Bool})\n",
      "   @ EM2 ~/Library/CloudStorage/Dropbox/research/julia_packages/em-ak-em/src/emcore.jl:256\n",
      " [4] em(data::DataFrame, subs::Vector{Int64}, X::Vector{Float64}, betas::Matrix{Float64}, sigma::Diagonal{Float64, Vector{Float64}}, likfun::var\"#lik_fn#34\"{Int64, Bool, Bool, Bool, Bool, Bool, Bool, Bool, Bool}; emtol::Float64, startx::Vector{Any}, maxiter::Int64, quiet::Bool, full::Bool, threads::Bool)\n",
      "   @ EM2 ./range.jl:0\n",
      " [5] #em#1\n",
      "   @ ~/Library/CloudStorage/Dropbox/research/julia_packages/em-ak-em/src/emcore.jl:62 [inlined]\n",
      " [6] em_opt_extended(trials::DataFrame, subs::Vector{Int64}, X::Vector{Float64}, betas::Matrix{Float64}, sigma::Vector{Float64}, lik_fn::var\"#lik_fn#34\"{Int64, Bool, Bool, Bool, Bool, Bool, Bool, Bool, Bool}, varnames::Vector{String}; emtol::Float64, maxiter::Int64, full::Bool, extended::Bool, quiet::Bool, threads::Bool, nstarts::Int64, noprior::Bool, startx::Nothing)\n",
      "   @ Main ~/Library/CloudStorage/Dropbox/research/studies/dev_sr/GL_manuscript/dev-graph-learning/modeling/code/sr_funcs_kids.jl:16\n",
      " [7] run_sr_td_future_dutch_rt_shift_trial_alltargets_keys(trials::DataFrame; warmup::Int64, normalize_prediction::Bool, naive::Bool, add_recency_exp::Bool, add_recency_ntrials::Bool, add_recency_lag10::Bool, add_zero_order::Bool, add_ginit::Bool, add_αM::Bool, covariates::Nothing, emtol::Float64, maxiter::Int64, full::Bool, extended::Bool, quiet::Bool, threads::Bool, nstarts::Int64, existing::Nothing)\n",
      "   @ Main ~/Library/CloudStorage/Dropbox/research/studies/dev_sr/GL_manuscript/dev-graph-learning/modeling/code/sr_funcs_kids.jl:604\n",
      " [8] top-level scope\n",
      "   @ ~/Library/CloudStorage/Dropbox/research/studies/dev_sr/GL_manuscript/dev-graph-learning/modeling/jl_notebook_cell_df34fa98e69747e1a8f8a730347b8e2f_W4sZmlsZQ==.jl:74"
     ]
    }
   ],
   "source": [
    "#run model\n",
    "\n",
    "j = 0\n",
    "if j == 0\n",
    "    naive = true\n",
    "    fname *= \"_naive\"\n",
    "else\n",
    "    naive = false\n",
    "end\n",
    "@show naive\n",
    "\n",
    "j = 0\n",
    "if j == 0\n",
    "    add_αM = true\n",
    "    fname *= \"_aM\"\n",
    "else\n",
    "    add_αM = false\n",
    "end\n",
    "@show add_αM\n",
    "\n",
    "if j == 0\n",
    "    add_recency_ntrials = false\n",
    "    add_recency_lag10 = false\n",
    "elseif j == 1\n",
    "    add_recency_ntrials = true\n",
    "    add_recency_lag10 = true\n",
    "    fname *= \"_rntrials_rlag10\"\n",
    "elseif j == 2\n",
    "    add_recency_ntrials = true\n",
    "    add_recency_lag10 = false\n",
    "    fname *= \"_rntrials\"\n",
    "else\n",
    "    add_recency_ntrials = false\n",
    "    add_recency_lag10 = true\n",
    "    fname *= \"_rlag10\"\n",
    "end\n",
    "@show add_recency_ntrials\n",
    "@show add_recency_lag10\n",
    "\n",
    "j = 0\n",
    "if j == 0\n",
    "    normalize_prediction = true\n",
    "    fname *= \"_normalize\"\n",
    "else\n",
    "    normalize_prediction = false\n",
    "end\n",
    "@show normalize_prediction\n",
    "\n",
    "if j == 0\n",
    "    add_zero_order = true\n",
    "    fname *= \"_zeroorder\"\n",
    "else\n",
    "    add_zero_order = false\n",
    "end\n",
    "@show add_zero_order\n",
    "\n",
    "j = 0\n",
    "if j == 0\n",
    "    warmup = -1\n",
    "else\n",
    "    warmup = 50\n",
    "    fname *= \"_warmup50\"\n",
    "end\n",
    "@show warmup\n",
    "\n",
    "if j == 0\n",
    "    covariates = nothing\n",
    "else\n",
    "    covariates = age\n",
    "    fname *= \"_cov-age\"\n",
    "end\n",
    "@show covariates\n",
    "\n",
    "results = fn(trialdata_kids; naive, add_αM, threads=true, add_recency_ntrials, add_recency_lag10, add_zero_order, normalize_prediction, warmup, covariates)\n",
    "save(\"$(fname).jld2\", \"results\", results; compress=true)"
   ]
  },
  {
   "cell_type": "markdown",
   "metadata": {},
   "source": [
    "## Group-level model results"
   ]
  },
  {
   "cell_type": "code",
   "execution_count": 40,
   "metadata": {},
   "outputs": [
    {
     "name": "stderr",
     "output_type": "stream",
     "text": [
      "┌ Warning: type EM.EMResultsExtended does not exist in workspace; reconstructing\n",
      "└ @ JLD2 /Users/katenussenbaum/.julia/packages/JLD2/KyKLQ/src/data/reconstructing_datatypes.jl:575\n"
     ]
    },
    {
     "name": "stdout",
     "output_type": "stream",
     "text": [
      "\u001b[1m25×7 DataFrame\u001b[0m\n",
      "\u001b[1m Row \u001b[0m│\u001b[1m parameter      \u001b[0m\u001b[1m beta    \u001b[0m\u001b[1m se      \u001b[0m\u001b[1m beta_p  \u001b[0m\u001b[1m age_beta \u001b[0m\u001b[1m age_se  \u001b[0m\u001b[1m age_p   \u001b[0m\n",
      "     │\u001b[90m String         \u001b[0m\u001b[90m Float64 \u001b[0m\u001b[90m Float64 \u001b[0m\u001b[90m Float64 \u001b[0m\u001b[90m Float64  \u001b[0m\u001b[90m Float64 \u001b[0m\u001b[90m Float64 \u001b[0m\n",
      "─────┼───────────────────────────────────────────────────────────────────────\n",
      "   1 │ rt_μ            -0.4274   0.037    0.0      -0.0393   0.0085   0.0\n",
      "   2 │ rt_σ            -1.4404   0.0196   0.0       0.0223   0.0046   0.0\n",
      "   3 │ rt_shift        -0.7137   0.0995   0.0       0.2089   0.0252   0.0\n",
      "   4 │ β_trial          0.0201   0.0103   0.0524    0.0015   0.0025   0.5533\n",
      "   5 │ β_anticipation  -3.8013   0.4905   0.0      -0.2259   0.1109   0.0417\n",
      "   6 │ β_zero_order    -0.165    0.0215   0.0       0.005    0.0074   0.4968\n",
      "   7 │ α_zero_order    -1.5981   0.0734   0.0       0.0241   0.0253   0.341\n",
      "   8 │ αM              -1.9743   0.1255   0.0       0.0301   0.0247   0.2229\n",
      "   9 │ γ                1.2523   0.168    0.0       0.0599   0.0316   0.058\n",
      "  10 │ λ                0.1453   0.184    0.4299    0.0165   0.0484   0.7331\n",
      "  11 │ β_targets_2     -0.0227   0.0066   0.0006   -0.0      0.0016   0.9931\n",
      "  12 │ β_targets_3      0.0829   0.0064   0.0       0.0045   0.0015   0.0037\n",
      "  13 │ β_targets_4      0.0323   0.006    0.0      -0.0005   0.0015   0.7331\n",
      "  14 │ β_targets_5      0.0325   0.0061   0.0      -0.0016   0.0015   0.2837\n",
      "  15 │ β_targets_6      0.0492   0.0064   0.0      -0.0009   0.0015   0.5789\n",
      "  16 │ β_targets_7      0.0871   0.006    0.0       0.0019   0.0014   0.1868\n",
      "  17 │ β_targets_8      0.0835   0.0073   0.0       0.0033   0.0017   0.06\n",
      "  18 │ β_targets_9      0.0037   0.0065   0.569     0.0016   0.0016   0.3216\n",
      "  19 │ β_targets_10    -0.0387   0.006    0.0      -0.0003   0.0014   0.8128\n",
      "  20 │ β_targets_11     0.0419   0.0059   0.0       0.0021   0.0014   0.1363\n",
      "  21 │ β_targets_12     0.053    0.007    0.0       0.0011   0.0017   0.5271\n",
      "  22 │ β_targets_13     0.0182   0.0063   0.0036    0.0013   0.0015   0.3742\n",
      "  23 │ β_targets_14     0.0868   0.0062   0.0       0.0022   0.0015   0.1298\n",
      "  24 │ β_targets_15     0.0488   0.0061   0.0       0.0036   0.0015   0.0151\n",
      "  25 │ β_key_2          0.0142   0.004    0.0004    0.0006   0.001    0.5505"
     ]
    }
   ],
   "source": [
    "#read in data\n",
    "results = load(\"fit_model.jld2\", \"results\")\n",
    "pvalues = results.pvalues\n",
    "betas = results.betas\n",
    "sigma = results.sigma\n",
    "se = results.standarderrors\n",
    "varnames = results.varnames\n",
    "\n",
    "#get p values and betas for estimates\n",
    "p_reshaped = reshape(pvalues, size(betas'))\n",
    "data = hcat(p_reshaped[:,1], betas[1,:])\n",
    "\n",
    "#get sigmas\n",
    "sigma_vec = vec(sigma)\n",
    "sigmas = [x for x in sigma_vec if x!=0]\n",
    "\n",
    "#get standard errors\n",
    "se_reshaped = reshape(se, size(betas'))\n",
    "\n",
    "#make data frame \n",
    "df = DataFrame(data, [:beta_p, :beta])\n",
    "df.parameter = varnames;\n",
    "df.se = se_reshaped[:, 1]\n",
    "df.age_beta = betas[2,:]\n",
    "df.age_p = p_reshaped[:,2]\n",
    "df.age_se = se_reshaped[:, 2]\n",
    "\n",
    "\n",
    "select!(df, [:parameter, :beta, :se, :beta_p, :age_beta, :age_se, :age_p])\n",
    "\n",
    "function round_dataframe!(df::DataFrame; digits::Int=4)\n",
    "    for col in eachcol(df)\n",
    "        if eltype(col) <: Number\n",
    "            col .= round.(col, digits=digits)\n",
    "        end\n",
    "    end\n",
    "    return df\n",
    "end\n",
    "\n",
    "round_dataframe!(df)\n",
    "\n",
    "# Print the DataFrame\n",
    "print(df)\n"
   ]
  },
  {
   "cell_type": "markdown",
   "metadata": {},
   "source": [
    "## Individual parameter estimates"
   ]
  },
  {
   "cell_type": "code",
   "execution_count": 39,
   "metadata": {},
   "outputs": [
    {
     "data": {
      "text/plain": [
       "\"../data/processed/model_individ_params.csv\""
      ]
     },
     "metadata": {},
     "output_type": "display_data"
    }
   ],
   "source": [
    "#add subject_id to results.x\n",
    "df = hcat(subjects, results.x)\n",
    "\n",
    "#add subject id to varnames\n",
    "varnames = [\"subject_id\"; results.varnames]\n",
    "\n",
    "#convert df to table\n",
    "data = DataFrame(df, Symbol.(varnames))\n",
    "\n",
    "#save df as csv\n",
    "CSV.write(\"../data/processed/model_individ_params.csv\", data)\n"
   ]
  }
 ],
 "metadata": {
  "kernelspec": {
   "display_name": "Julia 1.9.3",
   "language": "julia",
   "name": "julia-1.9"
  },
  "language_info": {
   "file_extension": ".jl",
   "mimetype": "application/julia",
   "name": "julia",
   "version": "1.9.3"
  }
 },
 "nbformat": 4,
 "nbformat_minor": 2
}
